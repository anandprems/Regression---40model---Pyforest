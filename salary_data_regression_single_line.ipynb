{
 "cells": [
  {
   "cell_type": "code",
   "execution_count": 1,
   "metadata": {
    "id": "1OecDm3t7NAv"
   },
   "outputs": [],
   "source": [
    "import numpy as np\n",
    "import pandas as pd\n",
    "import matplotlib.pyplot as plt\n",
    "import seaborn as sns\n",
    "%matplotlib inline"
   ]
  },
  {
   "cell_type": "markdown",
   "metadata": {
    "id": "JTce036fBvVH"
   },
   "source": [
    "**EDA and Preprocessing**"
   ]
  },
  {
   "cell_type": "code",
   "execution_count": 2,
   "metadata": {
    "id": "_wx_3ABG9OB8"
   },
   "outputs": [],
   "source": [
    "dataset = pd.read_csv('Salary_Data.csv')"
   ]
  },
  {
   "cell_type": "code",
   "execution_count": 3,
   "metadata": {
    "colab": {
     "base_uri": "https://localhost:8080/",
     "height": 195
    },
    "id": "R0nRLIQv9Xmp",
    "outputId": "ba44f0b3-a052-48a8-d462-3fce2b9c174c"
   },
   "outputs": [
    {
     "data": {
      "text/html": [
       "<div>\n",
       "<style scoped>\n",
       "    .dataframe tbody tr th:only-of-type {\n",
       "        vertical-align: middle;\n",
       "    }\n",
       "\n",
       "    .dataframe tbody tr th {\n",
       "        vertical-align: top;\n",
       "    }\n",
       "\n",
       "    .dataframe thead th {\n",
       "        text-align: right;\n",
       "    }\n",
       "</style>\n",
       "<table border=\"1\" class=\"dataframe\">\n",
       "  <thead>\n",
       "    <tr style=\"text-align: right;\">\n",
       "      <th></th>\n",
       "      <th>YearsExperience</th>\n",
       "      <th>Salary</th>\n",
       "    </tr>\n",
       "  </thead>\n",
       "  <tbody>\n",
       "    <tr>\n",
       "      <th>0</th>\n",
       "      <td>1.1</td>\n",
       "      <td>39343.0</td>\n",
       "    </tr>\n",
       "    <tr>\n",
       "      <th>1</th>\n",
       "      <td>1.3</td>\n",
       "      <td>46205.0</td>\n",
       "    </tr>\n",
       "    <tr>\n",
       "      <th>2</th>\n",
       "      <td>1.5</td>\n",
       "      <td>37731.0</td>\n",
       "    </tr>\n",
       "    <tr>\n",
       "      <th>3</th>\n",
       "      <td>2.0</td>\n",
       "      <td>43525.0</td>\n",
       "    </tr>\n",
       "    <tr>\n",
       "      <th>4</th>\n",
       "      <td>2.2</td>\n",
       "      <td>39891.0</td>\n",
       "    </tr>\n",
       "  </tbody>\n",
       "</table>\n",
       "</div>"
      ],
      "text/plain": [
       "   YearsExperience   Salary\n",
       "0              1.1  39343.0\n",
       "1              1.3  46205.0\n",
       "2              1.5  37731.0\n",
       "3              2.0  43525.0\n",
       "4              2.2  39891.0"
      ]
     },
     "execution_count": 3,
     "metadata": {},
     "output_type": "execute_result"
    }
   ],
   "source": [
    "dataset.head()"
   ]
  },
  {
   "cell_type": "code",
   "execution_count": 4,
   "metadata": {
    "colab": {
     "base_uri": "https://localhost:8080/",
     "height": 195
    },
    "id": "Rl0EybSt9chX",
    "outputId": "7b585d31-3402-41ce-fe1f-6af793612129"
   },
   "outputs": [
    {
     "data": {
      "text/html": [
       "<div>\n",
       "<style scoped>\n",
       "    .dataframe tbody tr th:only-of-type {\n",
       "        vertical-align: middle;\n",
       "    }\n",
       "\n",
       "    .dataframe tbody tr th {\n",
       "        vertical-align: top;\n",
       "    }\n",
       "\n",
       "    .dataframe thead th {\n",
       "        text-align: right;\n",
       "    }\n",
       "</style>\n",
       "<table border=\"1\" class=\"dataframe\">\n",
       "  <thead>\n",
       "    <tr style=\"text-align: right;\">\n",
       "      <th></th>\n",
       "      <th>YearsExperience</th>\n",
       "      <th>Salary</th>\n",
       "    </tr>\n",
       "  </thead>\n",
       "  <tbody>\n",
       "    <tr>\n",
       "      <th>25</th>\n",
       "      <td>9.0</td>\n",
       "      <td>105582.0</td>\n",
       "    </tr>\n",
       "    <tr>\n",
       "      <th>26</th>\n",
       "      <td>9.5</td>\n",
       "      <td>116969.0</td>\n",
       "    </tr>\n",
       "    <tr>\n",
       "      <th>27</th>\n",
       "      <td>9.6</td>\n",
       "      <td>112635.0</td>\n",
       "    </tr>\n",
       "    <tr>\n",
       "      <th>28</th>\n",
       "      <td>10.3</td>\n",
       "      <td>122391.0</td>\n",
       "    </tr>\n",
       "    <tr>\n",
       "      <th>29</th>\n",
       "      <td>10.5</td>\n",
       "      <td>121872.0</td>\n",
       "    </tr>\n",
       "  </tbody>\n",
       "</table>\n",
       "</div>"
      ],
      "text/plain": [
       "    YearsExperience    Salary\n",
       "25              9.0  105582.0\n",
       "26              9.5  116969.0\n",
       "27              9.6  112635.0\n",
       "28             10.3  122391.0\n",
       "29             10.5  121872.0"
      ]
     },
     "execution_count": 4,
     "metadata": {},
     "output_type": "execute_result"
    }
   ],
   "source": [
    "dataset.tail()"
   ]
  },
  {
   "cell_type": "code",
   "execution_count": 5,
   "metadata": {
    "colab": {
     "base_uri": "https://localhost:8080/",
     "height": 0
    },
    "id": "O8bSjtSd9hkL",
    "outputId": "a49f28ac-df60-4f20-9c5f-9f46a6b489da"
   },
   "outputs": [
    {
     "data": {
      "text/plain": [
       "Index(['YearsExperience', 'Salary'], dtype='object')"
      ]
     },
     "execution_count": 5,
     "metadata": {},
     "output_type": "execute_result"
    }
   ],
   "source": [
    "dataset.columns"
   ]
  },
  {
   "cell_type": "code",
   "execution_count": 6,
   "metadata": {
    "colab": {
     "base_uri": "https://localhost:8080/",
     "height": 0
    },
    "id": "cBWl61Y49-rG",
    "outputId": "7e2ef989-34c1-42b5-ad3b-20d94abfb4e2"
   },
   "outputs": [
    {
     "data": {
      "text/plain": [
       "(30, 2)"
      ]
     },
     "execution_count": 6,
     "metadata": {},
     "output_type": "execute_result"
    }
   ],
   "source": [
    "dataset.shape"
   ]
  },
  {
   "cell_type": "code",
   "execution_count": 7,
   "metadata": {
    "colab": {
     "base_uri": "https://localhost:8080/",
     "height": 284
    },
    "id": "8Jh4kxcL-DEL",
    "outputId": "7519151e-db58-45b3-e333-7cb88192f6ef"
   },
   "outputs": [
    {
     "data": {
      "text/html": [
       "<div>\n",
       "<style scoped>\n",
       "    .dataframe tbody tr th:only-of-type {\n",
       "        vertical-align: middle;\n",
       "    }\n",
       "\n",
       "    .dataframe tbody tr th {\n",
       "        vertical-align: top;\n",
       "    }\n",
       "\n",
       "    .dataframe thead th {\n",
       "        text-align: right;\n",
       "    }\n",
       "</style>\n",
       "<table border=\"1\" class=\"dataframe\">\n",
       "  <thead>\n",
       "    <tr style=\"text-align: right;\">\n",
       "      <th></th>\n",
       "      <th>YearsExperience</th>\n",
       "      <th>Salary</th>\n",
       "    </tr>\n",
       "  </thead>\n",
       "  <tbody>\n",
       "    <tr>\n",
       "      <th>count</th>\n",
       "      <td>30.000000</td>\n",
       "      <td>30.000000</td>\n",
       "    </tr>\n",
       "    <tr>\n",
       "      <th>mean</th>\n",
       "      <td>5.313333</td>\n",
       "      <td>76003.000000</td>\n",
       "    </tr>\n",
       "    <tr>\n",
       "      <th>std</th>\n",
       "      <td>2.837888</td>\n",
       "      <td>27414.429785</td>\n",
       "    </tr>\n",
       "    <tr>\n",
       "      <th>min</th>\n",
       "      <td>1.100000</td>\n",
       "      <td>37731.000000</td>\n",
       "    </tr>\n",
       "    <tr>\n",
       "      <th>25%</th>\n",
       "      <td>3.200000</td>\n",
       "      <td>56720.750000</td>\n",
       "    </tr>\n",
       "    <tr>\n",
       "      <th>50%</th>\n",
       "      <td>4.700000</td>\n",
       "      <td>65237.000000</td>\n",
       "    </tr>\n",
       "    <tr>\n",
       "      <th>75%</th>\n",
       "      <td>7.700000</td>\n",
       "      <td>100544.750000</td>\n",
       "    </tr>\n",
       "    <tr>\n",
       "      <th>max</th>\n",
       "      <td>10.500000</td>\n",
       "      <td>122391.000000</td>\n",
       "    </tr>\n",
       "  </tbody>\n",
       "</table>\n",
       "</div>"
      ],
      "text/plain": [
       "       YearsExperience         Salary\n",
       "count        30.000000      30.000000\n",
       "mean          5.313333   76003.000000\n",
       "std           2.837888   27414.429785\n",
       "min           1.100000   37731.000000\n",
       "25%           3.200000   56720.750000\n",
       "50%           4.700000   65237.000000\n",
       "75%           7.700000  100544.750000\n",
       "max          10.500000  122391.000000"
      ]
     },
     "execution_count": 7,
     "metadata": {},
     "output_type": "execute_result"
    }
   ],
   "source": [
    "dataset.describe()"
   ]
  },
  {
   "cell_type": "code",
   "execution_count": 8,
   "metadata": {
    "colab": {
     "base_uri": "https://localhost:8080/",
     "height": 0
    },
    "id": "29SAt8pG-heq",
    "outputId": "91d226e4-e192-4185-e101-d8e786a3baf0"
   },
   "outputs": [
    {
     "data": {
      "text/plain": [
       "YearsExperience    0\n",
       "Salary             0\n",
       "dtype: int64"
      ]
     },
     "execution_count": 8,
     "metadata": {},
     "output_type": "execute_result"
    }
   ],
   "source": [
    "dataset.isnull().sum()"
   ]
  },
  {
   "cell_type": "code",
   "execution_count": 9,
   "metadata": {
    "colab": {
     "base_uri": "https://localhost:8080/",
     "height": 0
    },
    "id": "liv_5We2AfUO",
    "outputId": "d1447687-db04-42e1-cfae-ab3ab221797d"
   },
   "outputs": [
    {
     "name": "stdout",
     "output_type": "stream",
     "text": [
      "<class 'pandas.core.frame.DataFrame'>\n",
      "RangeIndex: 30 entries, 0 to 29\n",
      "Data columns (total 2 columns):\n",
      " #   Column           Non-Null Count  Dtype  \n",
      "---  ------           --------------  -----  \n",
      " 0   YearsExperience  30 non-null     float64\n",
      " 1   Salary           30 non-null     float64\n",
      "dtypes: float64(2)\n",
      "memory usage: 608.0 bytes\n"
     ]
    }
   ],
   "source": [
    "dataset.info()"
   ]
  },
  {
   "cell_type": "code",
   "execution_count": 10,
   "metadata": {
    "colab": {
     "base_uri": "https://localhost:8080/",
     "height": 106
    },
    "id": "j2budX26-yCm",
    "outputId": "b1ce497a-4b9e-455f-b059-0df7ddb04ffe"
   },
   "outputs": [
    {
     "data": {
      "text/html": [
       "<div>\n",
       "<style scoped>\n",
       "    .dataframe tbody tr th:only-of-type {\n",
       "        vertical-align: middle;\n",
       "    }\n",
       "\n",
       "    .dataframe tbody tr th {\n",
       "        vertical-align: top;\n",
       "    }\n",
       "\n",
       "    .dataframe thead th {\n",
       "        text-align: right;\n",
       "    }\n",
       "</style>\n",
       "<table border=\"1\" class=\"dataframe\">\n",
       "  <thead>\n",
       "    <tr style=\"text-align: right;\">\n",
       "      <th></th>\n",
       "      <th>YearsExperience</th>\n",
       "      <th>Salary</th>\n",
       "    </tr>\n",
       "  </thead>\n",
       "  <tbody>\n",
       "    <tr>\n",
       "      <th>YearsExperience</th>\n",
       "      <td>1.000000</td>\n",
       "      <td>0.978242</td>\n",
       "    </tr>\n",
       "    <tr>\n",
       "      <th>Salary</th>\n",
       "      <td>0.978242</td>\n",
       "      <td>1.000000</td>\n",
       "    </tr>\n",
       "  </tbody>\n",
       "</table>\n",
       "</div>"
      ],
      "text/plain": [
       "                 YearsExperience    Salary\n",
       "YearsExperience         1.000000  0.978242\n",
       "Salary                  0.978242  1.000000"
      ]
     },
     "execution_count": 10,
     "metadata": {},
     "output_type": "execute_result"
    }
   ],
   "source": [
    "dataset.corr()"
   ]
  },
  {
   "cell_type": "code",
   "execution_count": 11,
   "metadata": {
    "colab": {
     "base_uri": "https://localhost:8080/",
     "height": 477
    },
    "id": "Eby5oUgi-t2w",
    "outputId": "597cbb07-ba52-4f0b-fd50-280e124206e8"
   },
   "outputs": [
    {
     "data": {
      "text/plain": [
       "<matplotlib.axes._subplots.AxesSubplot at 0x1f5ff8a6c10>"
      ]
     },
     "execution_count": 11,
     "metadata": {},
     "output_type": "execute_result"
    },
    {
     "data": {
      "image/png": "[encoded data removed]",
      "text/plain": [
       "<Figure size 720x540 with 2 Axes>"
      ]
     },
     "metadata": {
      "needs_background": "light"
     },
     "output_type": "display_data"
    }
   ],
   "source": [
    "plt.figure(figsize=(10,7.5))\n",
    "sns.heatmap(dataset.corr(), cmap = 'BuPu', annot = True)"
   ]
  },
  {
   "cell_type": "code",
   "execution_count": 12,
   "metadata": {
    "colab": {
     "base_uri": "https://localhost:8080/",
     "height": 391
    },
    "id": "5FDUZXwMA3Mb",
    "outputId": "d40c035d-3c12-49ad-e384-3d18fb5bd5e7"
   },
   "outputs": [
    {
     "data": {
      "text/plain": [
       "<seaborn.axisgrid.PairGrid at 0x1f5ffb8f220>"
      ]
     },
     "execution_count": 12,
     "metadata": {},
     "output_type": "execute_result"
    },
    {
     "data": {
      "image/png": "[encoded data removed]",
      "text/plain": [
       "<Figure size 360x360 with 6 Axes>"
      ]
     },
     "metadata": {
      "needs_background": "light"
     },
     "output_type": "display_data"
    }
   ],
   "source": [
    "sns.pairplot(dataset)"
   ]
  },
  {
   "cell_type": "markdown",
   "metadata": {
    "id": "w-iquZ4IBxZh"
   },
   "source": [
    "**Data Preprocessing**"
   ]
  },
  {
   "cell_type": "code",
   "execution_count": 13,
   "metadata": {
    "id": "mchsAGek0uEX"
   },
   "outputs": [],
   "source": [
    "X = dataset.iloc[:,:-1].values   #independent variable\n",
    "y = dataset.iloc[:,-1].values    #dependent varaiable"
   ]
  },
  {
   "cell_type": "code",
   "execution_count": 16,
   "metadata": {
    "colab": {
     "base_uri": "https://localhost:8080/",
     "height": 0
    },
    "id": "FEzxmKpvCGGg",
    "outputId": "e8c32d8f-2c94-42e3-fde3-d1dbafde78f3"
   },
   "outputs": [
    {
     "name": "stdout",
     "output_type": "stream",
     "text": [
      "Splitted Train-Test dataset details:\n",
      "Num of dataset in X -Train: (21, 1)\n",
      "Num of dataset in Y -Train: (21,)\n",
      "Num of dataset in X -Test: (9, 1)\n",
      "Num of dataset in y -Test: (9,)\n"
     ]
    }
   ],
   "source": [
    "from sklearn.model_selection import train_test_split\n",
    "X_train, X_test, y_train, y_test = train_test_split(X, y, test_size = 0.3, random_state =0)\n",
    "print('Splitted Train-Test dataset details:')\n",
    "print('Num of dataset in X -Train:', np.shape(X_train))\n",
    "print('Num of dataset in Y -Train:', np.shape(y_train))\n",
    "print('Num of dataset in X -Test:', np.shape(X_test))\n",
    "print('Num of dataset in y -Test:', np.shape(y_test))"
   ]
  },
  {
   "cell_type": "markdown",
   "metadata": {
    "id": "558PCh3tC7I4"
   },
   "source": [
    "**Modeling**"
   ]
  },
  {
   "cell_type": "code",
   "execution_count": 19,
   "metadata": {},
   "outputs": [
    {
     "name": "stderr",
     "output_type": "stream",
     "text": [
      " 81%|██████████████████████████████████████████████████████████████████▍               | 34/42 [00:00<00:00, 35.54it/s]"
     ]
    },
    {
     "name": "stdout",
     "output_type": "stream",
     "text": [
      "OrthogonalMatchingPursuitCV model failed to execute\n",
      "Found array with 1 feature(s) (shape=(21, 1)) while a minimum of 2 is required by OrthogonalMatchingPursuitCV.\n"
     ]
    },
    {
     "name": "stderr",
     "output_type": "stream",
     "text": [
      "100%|██████████████████████████████████████████████████████████████████████████████████| 42/42 [00:01<00:00, 37.80it/s]"
     ]
    },
    {
     "name": "stdout",
     "output_type": "stream",
     "text": [
      "                               Adjusted R-Squared  R-Squared     RMSE  \\\n",
      "Model                                                                   \n",
      "LarsCV                                       0.97       0.97  4834.26   \n",
      "LassoLarsIC                                  0.97       0.97  4834.26   \n",
      "TransformedTargetRegressor                   0.97       0.97  4834.26   \n",
      "RANSACRegressor                              0.97       0.97  4834.26   \n",
      "LassoLarsCV                                  0.97       0.97  4834.26   \n",
      "Lars                                         0.97       0.97  4834.26   \n",
      "OrthogonalMatchingPursuit                    0.97       0.97  4834.26   \n",
      "LinearRegression                             0.97       0.97  4834.26   \n",
      "SGDRegressor                                 0.97       0.97  4834.30   \n",
      "Lasso                                        0.97       0.97  4834.39   \n",
      "LassoLars                                    0.97       0.97  4834.86   \n",
      "LassoCV                                      0.97       0.97  4837.45   \n",
      "RidgeCV                                      0.97       0.97  4851.16   \n",
      "HuberRegressor                               0.97       0.97  5105.89   \n",
      "Ridge                                        0.97       0.97  5173.86   \n",
      "ExtraTreeRegressor                           0.96       0.96  5867.47   \n",
      "ExtraTreesRegressor                          0.96       0.96  5883.00   \n",
      "AdaBoostRegressor                            0.94       0.95  6639.33   \n",
      "RandomForestRegressor                        0.94       0.95  6764.79   \n",
      "BaggingRegressor                             0.94       0.95  6899.99   \n",
      "PoissonRegressor                             0.93       0.94  7327.41   \n",
      "KNeighborsRegressor                          0.93       0.94  7343.67   \n",
      "GradientBoostingRegressor                    0.92       0.93  8029.65   \n",
      "XGBRegressor                                 0.92       0.93  8150.33   \n",
      "DecisionTreeRegressor                        0.92       0.93  8150.52   \n",
      "ElasticNet                                   0.82       0.84 11963.77   \n",
      "GeneralizedLinearRegressor                   0.64       0.68 16892.26   \n",
      "TweedieRegressor                             0.64       0.68 16892.26   \n",
      "GammaRegressor                               0.64       0.68 16950.92   \n",
      "ElasticNetCV                                -0.22      -0.07 31027.84   \n",
      "NuSVR                                       -0.24      -0.09 31345.21   \n",
      "BayesianRidge                               -0.32      -0.15 32271.16   \n",
      "HistGradientBoostingRegressor               -0.32      -0.15 32271.16   \n",
      "DummyRegressor                              -0.32      -0.15 32271.16   \n",
      "LGBMRegressor                               -0.32      -0.15 32271.16   \n",
      "SVR                                         -0.64      -0.43 35978.11   \n",
      "PassiveAggressiveRegressor                  -5.21      -4.44 70029.25   \n",
      "KernelRidge                                 -5.49      -4.68 71561.41   \n",
      "GaussianProcessRegressor                    -6.51      -5.58 77025.58   \n",
      "LinearSVR                                   -9.13      -7.86 89434.16   \n",
      "MLPRegressor                                -9.13      -7.87 89446.59   \n",
      "\n",
      "                               Time Taken  \n",
      "Model                                      \n",
      "LarsCV                               0.02  \n",
      "LassoLarsIC                          0.01  \n",
      "TransformedTargetRegressor           0.01  \n",
      "RANSACRegressor                      0.01  \n",
      "LassoLarsCV                          0.02  \n",
      "Lars                                 0.01  \n",
      "OrthogonalMatchingPursuit            0.01  \n",
      "LinearRegression                     0.01  \n",
      "SGDRegressor                         0.01  \n",
      "Lasso                                0.01  \n",
      "LassoLars                            0.01  \n",
      "LassoCV                              0.07  \n",
      "RidgeCV                              0.02  \n",
      "HuberRegressor                       0.02  \n",
      "Ridge                                0.01  \n",
      "ExtraTreeRegressor                   0.01  \n",
      "ExtraTreesRegressor                  0.10  \n",
      "AdaBoostRegressor                    0.08  \n",
      "RandomForestRegressor                0.15  \n",
      "BaggingRegressor                     0.03  \n",
      "PoissonRegressor                     0.01  \n",
      "KNeighborsRegressor                  0.02  \n",
      "GradientBoostingRegressor            0.03  \n",
      "XGBRegressor                         0.04  \n",
      "DecisionTreeRegressor                0.01  \n",
      "ElasticNet                           0.01  \n",
      "GeneralizedLinearRegressor           0.01  \n",
      "TweedieRegressor                     0.01  \n",
      "GammaRegressor                       0.01  \n",
      "ElasticNetCV                         0.06  \n",
      "NuSVR                                0.01  \n",
      "BayesianRidge                        0.01  \n",
      "HistGradientBoostingRegressor        0.03  \n",
      "DummyRegressor                       0.01  \n",
      "LGBMRegressor                        0.02  \n",
      "SVR                                  0.01  \n",
      "PassiveAggressiveRegressor           0.01  \n",
      "KernelRidge                          0.02  \n",
      "GaussianProcessRegressor             0.01  \n",
      "LinearSVR                            0.01  \n",
      "MLPRegressor                         0.10  \n"
     ]
    },
    {
     "name": "stderr",
     "output_type": "stream",
     "text": [
      "\n"
     ]
    }
   ],
   "source": [
    "#by importing pyforest we can generate almost 40 regression model\n",
    "import pyforest\n",
    "from lazypredict.Supervised import LazyRegressor\n",
    "regressions = LazyRegressor(ignore_warnings=False, custom_metric=None)\n",
    "models, predictions = regressions.fit(X_train, X_test, y_train, y_test)\n",
    "print(models)"
   ]
  }
 ],
 "metadata": {
  "colab": {
   "collapsed_sections": [],
   "name": "20_salary_data_regression.ipynb",
   "provenance": []
  },
  "kernelspec": {
   "display_name": "Python 3",
   "language": "python",
   "name": "python3"
  },
  "language_info": {
   "codemirror_mode": {
    "name": "ipython",
    "version": 3
   },
   "file_extension": ".py",
   "mimetype": "text/x-python",
   "name": "python",
   "nbconvert_exporter": "python",
   "pygments_lexer": "ipython3",
   "version": "3.8.3"
  }
 },
 "nbformat": 4,
 "nbformat_minor": 1
}

{
 "cells": [
  {
   "cell_type": "markdown",
   "metadata": {
    "id": "bXSdtsFbLJ5k"
   },
   "source": [
    "**Simple Linear Regression 2 (Boston Housing database)**"
   ]
  },
  {
   "cell_type": "markdown",
   "metadata": {
    "id": "RRc9FDDIc1MQ"
   },
   "source": [
    "The Boston Housing Dataset is a derived from information collected by the U.S. Census Service concerning housing in the area of Boston MA. The following describes the dataset columns:\n",
    "\n"
   ]
  },
  {
   "cell_type": "markdown",
   "metadata": {
    "id": "bHxsyXJnc3vX"
   },
   "source": [
    "\n",
    "*   **CRIM** - per capita crime rate by town\n",
    "*   **ZN** - proportion of residential land zoned for lots over 25,000 sq.ft.\n",
    "\n",
    "*   **INDUS** - proportion of non-retail business acres per town.\n",
    "\n",
    "*   **CHAS** - Charles River dummy variable (1 if tract bounds river; 0 otherwise)\n",
    "\n",
    "*   **NOX** - nitric oxides concentration (parts per 10 million)\n",
    "\n",
    "*   **RM** - average number of rooms per dwelling\n",
    "\n",
    "*   **AGE** - proportion of owner-occupied units built prior to 1940\n",
    "\n",
    "*   **DIS** - weighted distances to five Boston employment centres\n",
    "\n",
    "*   **RAD** - index of accessibility to radial highways\n",
    "\n",
    "*   **TAX** - full-value property-tax rate per $10,000\n",
    "\n",
    "*   **PTRATIO** - pupil-teacher ratio by town\n",
    "\n",
    "*   **B** - 1000(Bk - 0.63)^2 where Bk is the proportion of blacks by town\n",
    "\n",
    "\n",
    "*   **LSTAT** - % lower status of the population\n",
    "\n",
    "*   **MEDV** - Median value of owner-occupied homes in $1000's\n",
    "\n",
    "\n",
    "\n",
    "\n",
    "\n",
    "\n"
   ]
  },
  {
   "cell_type": "markdown",
   "metadata": {
    "id": "ym4Enlc4LPtQ"
   },
   "source": [
    "**1. Importing the Libraries**"
   ]
  },
  {
   "cell_type": "code",
   "execution_count": 1,
   "metadata": {
    "id": "iFSeI58SLYm7"
   },
   "outputs": [],
   "source": [
    "import pandas as pd\n",
    "import numpy as np\n",
    "import matplotlib.pyplot as plt\n",
    "import seaborn as sns\n",
    "%matplotlib inline\n",
    "sns.set()"
   ]
  },
  {
   "cell_type": "markdown",
   "metadata": {
    "id": "tcxpuYPwL74q"
   },
   "source": [
    "**2.Importing Datasets**"
   ]
  },
  {
   "cell_type": "code",
   "execution_count": 2,
   "metadata": {
    "id": "nmTfeuYrMBNQ"
   },
   "outputs": [],
   "source": [
    "dataset=pd.read_csv('HousingData.csv')"
   ]
  },
  {
   "cell_type": "markdown",
   "metadata": {
    "id": "8ZHiw9I_NQDl"
   },
   "source": [
    "**3.EDA for dataset**"
   ]
  },
  {
   "cell_type": "code",
   "execution_count": 3,
   "metadata": {
    "colab": {
     "base_uri": "https://localhost:8080/",
     "height": 195
    },
    "id": "t4A6u87WNcHH",
    "outputId": "e5b5533b-2353-4e8b-da6f-1453eebc0605"
   },
   "outputs": [
    {
     "data": {
      "text/html": [
       "<div>\n",
       "<style scoped>\n",
       "    .dataframe tbody tr th:only-of-type {\n",
       "        vertical-align: middle;\n",
       "    }\n",
       "\n",
       "    .dataframe tbody tr th {\n",
       "        vertical-align: top;\n",
       "    }\n",
       "\n",
       "    .dataframe thead th {\n",
       "        text-align: right;\n",
       "    }\n",
       "</style>\n",
       "<table border=\"1\" class=\"dataframe\">\n",
       "  <thead>\n",
       "    <tr style=\"text-align: right;\">\n",
       "      <th></th>\n",
       "      <th>CRIM</th>\n",
       "      <th>ZN</th>\n",
       "      <th>INDUS</th>\n",
       "      <th>CHAS</th>\n",
       "      <th>NOX</th>\n",
       "      <th>RM</th>\n",
       "      <th>AGE</th>\n",
       "      <th>DIS</th>\n",
       "      <th>RAD</th>\n",
       "      <th>TAX</th>\n",
       "      <th>PTRATIO</th>\n",
       "      <th>B</th>\n",
       "      <th>LSTAT</th>\n",
       "      <th>MEDV</th>\n",
       "    </tr>\n",
       "  </thead>\n",
       "  <tbody>\n",
       "    <tr>\n",
       "      <th>0</th>\n",
       "      <td>0.00632</td>\n",
       "      <td>18.0</td>\n",
       "      <td>2.31</td>\n",
       "      <td>0.0</td>\n",
       "      <td>0.538</td>\n",
       "      <td>6.575</td>\n",
       "      <td>65.2</td>\n",
       "      <td>4.0900</td>\n",
       "      <td>1</td>\n",
       "      <td>296</td>\n",
       "      <td>15.3</td>\n",
       "      <td>396.90</td>\n",
       "      <td>4.98</td>\n",
       "      <td>24.0</td>\n",
       "    </tr>\n",
       "    <tr>\n",
       "      <th>1</th>\n",
       "      <td>0.02731</td>\n",
       "      <td>0.0</td>\n",
       "      <td>7.07</td>\n",
       "      <td>0.0</td>\n",
       "      <td>0.469</td>\n",
       "      <td>6.421</td>\n",
       "      <td>78.9</td>\n",
       "      <td>4.9671</td>\n",
       "      <td>2</td>\n",
       "      <td>242</td>\n",
       "      <td>17.8</td>\n",
       "      <td>396.90</td>\n",
       "      <td>9.14</td>\n",
       "      <td>21.6</td>\n",
       "    </tr>\n",
       "    <tr>\n",
       "      <th>2</th>\n",
       "      <td>0.02729</td>\n",
       "      <td>0.0</td>\n",
       "      <td>7.07</td>\n",
       "      <td>0.0</td>\n",
       "      <td>0.469</td>\n",
       "      <td>7.185</td>\n",
       "      <td>61.1</td>\n",
       "      <td>4.9671</td>\n",
       "      <td>2</td>\n",
       "      <td>242</td>\n",
       "      <td>17.8</td>\n",
       "      <td>392.83</td>\n",
       "      <td>4.03</td>\n",
       "      <td>34.7</td>\n",
       "    </tr>\n",
       "    <tr>\n",
       "      <th>3</th>\n",
       "      <td>0.03237</td>\n",
       "      <td>0.0</td>\n",
       "      <td>2.18</td>\n",
       "      <td>0.0</td>\n",
       "      <td>0.458</td>\n",
       "      <td>6.998</td>\n",
       "      <td>45.8</td>\n",
       "      <td>6.0622</td>\n",
       "      <td>3</td>\n",
       "      <td>222</td>\n",
       "      <td>18.7</td>\n",
       "      <td>394.63</td>\n",
       "      <td>2.94</td>\n",
       "      <td>33.4</td>\n",
       "    </tr>\n",
       "    <tr>\n",
       "      <th>4</th>\n",
       "      <td>0.06905</td>\n",
       "      <td>0.0</td>\n",
       "      <td>2.18</td>\n",
       "      <td>0.0</td>\n",
       "      <td>0.458</td>\n",
       "      <td>7.147</td>\n",
       "      <td>54.2</td>\n",
       "      <td>6.0622</td>\n",
       "      <td>3</td>\n",
       "      <td>222</td>\n",
       "      <td>18.7</td>\n",
       "      <td>396.90</td>\n",
       "      <td>NaN</td>\n",
       "      <td>36.2</td>\n",
       "    </tr>\n",
       "  </tbody>\n",
       "</table>\n",
       "</div>"
      ],
      "text/plain": [
       "      CRIM    ZN  INDUS  CHAS    NOX     RM   AGE     DIS  RAD  TAX  PTRATIO  \\\n",
       "0  0.00632  18.0   2.31   0.0  0.538  6.575  65.2  4.0900    1  296     15.3   \n",
       "1  0.02731   0.0   7.07   0.0  0.469  6.421  78.9  4.9671    2  242     17.8   \n",
       "2  0.02729   0.0   7.07   0.0  0.469  7.185  61.1  4.9671    2  242     17.8   \n",
       "3  0.03237   0.0   2.18   0.0  0.458  6.998  45.8  6.0622    3  222     18.7   \n",
       "4  0.06905   0.0   2.18   0.0  0.458  7.147  54.2  6.0622    3  222     18.7   \n",
       "\n",
       "        B  LSTAT  MEDV  \n",
       "0  396.90   4.98  24.0  \n",
       "1  396.90   9.14  21.6  \n",
       "2  392.83   4.03  34.7  \n",
       "3  394.63   2.94  33.4  \n",
       "4  396.90    NaN  36.2  "
      ]
     },
     "execution_count": 3,
     "metadata": {},
     "output_type": "execute_result"
    }
   ],
   "source": [
    "dataset.head()"
   ]
  },
  {
   "cell_type": "code",
   "execution_count": 4,
   "metadata": {
    "colab": {
     "base_uri": "https://localhost:8080/",
     "height": 195
    },
    "id": "mC6DUCeJHUNJ",
    "outputId": "66407369-1f0b-4351-96b6-f72714bf8927"
   },
   "outputs": [
    {
     "data": {
      "text/html": [
       "<div>\n",
       "<style scoped>\n",
       "    .dataframe tbody tr th:only-of-type {\n",
       "        vertical-align: middle;\n",
       "    }\n",
       "\n",
       "    .dataframe tbody tr th {\n",
       "        vertical-align: top;\n",
       "    }\n",
       "\n",
       "    .dataframe thead th {\n",
       "        text-align: right;\n",
       "    }\n",
       "</style>\n",
       "<table border=\"1\" class=\"dataframe\">\n",
       "  <thead>\n",
       "    <tr style=\"text-align: right;\">\n",
       "      <th></th>\n",
       "      <th>CRIM</th>\n",
       "      <th>ZN</th>\n",
       "      <th>INDUS</th>\n",
       "      <th>CHAS</th>\n",
       "      <th>NOX</th>\n",
       "      <th>RM</th>\n",
       "      <th>AGE</th>\n",
       "      <th>DIS</th>\n",
       "      <th>RAD</th>\n",
       "      <th>TAX</th>\n",
       "      <th>PTRATIO</th>\n",
       "      <th>B</th>\n",
       "      <th>LSTAT</th>\n",
       "      <th>MEDV</th>\n",
       "    </tr>\n",
       "  </thead>\n",
       "  <tbody>\n",
       "    <tr>\n",
       "      <th>501</th>\n",
       "      <td>0.06263</td>\n",
       "      <td>0.0</td>\n",
       "      <td>11.93</td>\n",
       "      <td>0.0</td>\n",
       "      <td>0.573</td>\n",
       "      <td>6.593</td>\n",
       "      <td>69.1</td>\n",
       "      <td>2.4786</td>\n",
       "      <td>1</td>\n",
       "      <td>273</td>\n",
       "      <td>21.0</td>\n",
       "      <td>391.99</td>\n",
       "      <td>NaN</td>\n",
       "      <td>22.4</td>\n",
       "    </tr>\n",
       "    <tr>\n",
       "      <th>502</th>\n",
       "      <td>0.04527</td>\n",
       "      <td>0.0</td>\n",
       "      <td>11.93</td>\n",
       "      <td>0.0</td>\n",
       "      <td>0.573</td>\n",
       "      <td>6.120</td>\n",
       "      <td>76.7</td>\n",
       "      <td>2.2875</td>\n",
       "      <td>1</td>\n",
       "      <td>273</td>\n",
       "      <td>21.0</td>\n",
       "      <td>396.90</td>\n",
       "      <td>9.08</td>\n",
       "      <td>20.6</td>\n",
       "    </tr>\n",
       "    <tr>\n",
       "      <th>503</th>\n",
       "      <td>0.06076</td>\n",
       "      <td>0.0</td>\n",
       "      <td>11.93</td>\n",
       "      <td>0.0</td>\n",
       "      <td>0.573</td>\n",
       "      <td>6.976</td>\n",
       "      <td>91.0</td>\n",
       "      <td>2.1675</td>\n",
       "      <td>1</td>\n",
       "      <td>273</td>\n",
       "      <td>21.0</td>\n",
       "      <td>396.90</td>\n",
       "      <td>5.64</td>\n",
       "      <td>23.9</td>\n",
       "    </tr>\n",
       "    <tr>\n",
       "      <th>504</th>\n",
       "      <td>0.10959</td>\n",
       "      <td>0.0</td>\n",
       "      <td>11.93</td>\n",
       "      <td>0.0</td>\n",
       "      <td>0.573</td>\n",
       "      <td>6.794</td>\n",
       "      <td>89.3</td>\n",
       "      <td>2.3889</td>\n",
       "      <td>1</td>\n",
       "      <td>273</td>\n",
       "      <td>21.0</td>\n",
       "      <td>393.45</td>\n",
       "      <td>6.48</td>\n",
       "      <td>22.0</td>\n",
       "    </tr>\n",
       "    <tr>\n",
       "      <th>505</th>\n",
       "      <td>0.04741</td>\n",
       "      <td>0.0</td>\n",
       "      <td>11.93</td>\n",
       "      <td>0.0</td>\n",
       "      <td>0.573</td>\n",
       "      <td>6.030</td>\n",
       "      <td>NaN</td>\n",
       "      <td>2.5050</td>\n",
       "      <td>1</td>\n",
       "      <td>273</td>\n",
       "      <td>21.0</td>\n",
       "      <td>396.90</td>\n",
       "      <td>7.88</td>\n",
       "      <td>11.9</td>\n",
       "    </tr>\n",
       "  </tbody>\n",
       "</table>\n",
       "</div>"
      ],
      "text/plain": [
       "        CRIM   ZN  INDUS  CHAS    NOX     RM   AGE     DIS  RAD  TAX  PTRATIO  \\\n",
       "501  0.06263  0.0  11.93   0.0  0.573  6.593  69.1  2.4786    1  273     21.0   \n",
       "502  0.04527  0.0  11.93   0.0  0.573  6.120  76.7  2.2875    1  273     21.0   \n",
       "503  0.06076  0.0  11.93   0.0  0.573  6.976  91.0  2.1675    1  273     21.0   \n",
       "504  0.10959  0.0  11.93   0.0  0.573  6.794  89.3  2.3889    1  273     21.0   \n",
       "505  0.04741  0.0  11.93   0.0  0.573  6.030   NaN  2.5050    1  273     21.0   \n",
       "\n",
       "          B  LSTAT  MEDV  \n",
       "501  391.99    NaN  22.4  \n",
       "502  396.90   9.08  20.6  \n",
       "503  396.90   5.64  23.9  \n",
       "504  393.45   6.48  22.0  \n",
       "505  396.90   7.88  11.9  "
      ]
     },
     "execution_count": 4,
     "metadata": {},
     "output_type": "execute_result"
    }
   ],
   "source": [
    "dataset.tail()"
   ]
  },
  {
   "cell_type": "code",
   "execution_count": 5,
   "metadata": {
    "colab": {
     "base_uri": "https://localhost:8080/",
     "height": 0
    },
    "id": "U91iTOdbH2cr",
    "outputId": "581b9db5-ee9c-4904-9358-67eacd046ea8"
   },
   "outputs": [
    {
     "data": {
      "text/plain": [
       "Index(['CRIM', 'ZN', 'INDUS', 'CHAS', 'NOX', 'RM', 'AGE', 'DIS', 'RAD', 'TAX',\n",
       "       'PTRATIO', 'B', 'LSTAT', 'MEDV'],\n",
       "      dtype='object')"
      ]
     },
     "execution_count": 5,
     "metadata": {},
     "output_type": "execute_result"
    }
   ],
   "source": [
    "dataset.columns"
   ]
  },
  {
   "cell_type": "code",
   "execution_count": 6,
   "metadata": {
    "colab": {
     "base_uri": "https://localhost:8080/",
     "height": 0
    },
    "id": "lWxkDlbiNrLa",
    "outputId": "d2b469ef-a6ef-4e7e-9148-176d1259e0d9"
   },
   "outputs": [
    {
     "data": {
      "text/plain": [
       "(506, 14)"
      ]
     },
     "execution_count": 6,
     "metadata": {},
     "output_type": "execute_result"
    }
   ],
   "source": [
    "dataset.shape"
   ]
  },
  {
   "cell_type": "code",
   "execution_count": 7,
   "metadata": {
    "colab": {
     "base_uri": "https://localhost:8080/",
     "height": 462
    },
    "id": "8F9LhczFNzA-",
    "outputId": "4e36d1c2-909e-474c-fb9f-94e74a55dc2c"
   },
   "outputs": [
    {
     "data": {
      "text/html": [
       "<div>\n",
       "<style scoped>\n",
       "    .dataframe tbody tr th:only-of-type {\n",
       "        vertical-align: middle;\n",
       "    }\n",
       "\n",
       "    .dataframe tbody tr th {\n",
       "        vertical-align: top;\n",
       "    }\n",
       "\n",
       "    .dataframe thead th {\n",
       "        text-align: right;\n",
       "    }\n",
       "</style>\n",
       "<table border=\"1\" class=\"dataframe\">\n",
       "  <thead>\n",
       "    <tr style=\"text-align: right;\">\n",
       "      <th></th>\n",
       "      <th>count</th>\n",
       "      <th>mean</th>\n",
       "      <th>std</th>\n",
       "      <th>min</th>\n",
       "      <th>25%</th>\n",
       "      <th>50%</th>\n",
       "      <th>75%</th>\n",
       "      <th>max</th>\n",
       "    </tr>\n",
       "  </thead>\n",
       "  <tbody>\n",
       "    <tr>\n",
       "      <th>CRIM</th>\n",
       "      <td>486.0</td>\n",
       "      <td>3.611874</td>\n",
       "      <td>8.720192</td>\n",
       "      <td>0.00632</td>\n",
       "      <td>0.081900</td>\n",
       "      <td>0.253715</td>\n",
       "      <td>3.560262</td>\n",
       "      <td>88.9762</td>\n",
       "    </tr>\n",
       "    <tr>\n",
       "      <th>ZN</th>\n",
       "      <td>486.0</td>\n",
       "      <td>11.211934</td>\n",
       "      <td>23.388876</td>\n",
       "      <td>0.00000</td>\n",
       "      <td>0.000000</td>\n",
       "      <td>0.000000</td>\n",
       "      <td>12.500000</td>\n",
       "      <td>100.0000</td>\n",
       "    </tr>\n",
       "    <tr>\n",
       "      <th>INDUS</th>\n",
       "      <td>486.0</td>\n",
       "      <td>11.083992</td>\n",
       "      <td>6.835896</td>\n",
       "      <td>0.46000</td>\n",
       "      <td>5.190000</td>\n",
       "      <td>9.690000</td>\n",
       "      <td>18.100000</td>\n",
       "      <td>27.7400</td>\n",
       "    </tr>\n",
       "    <tr>\n",
       "      <th>CHAS</th>\n",
       "      <td>486.0</td>\n",
       "      <td>0.069959</td>\n",
       "      <td>0.255340</td>\n",
       "      <td>0.00000</td>\n",
       "      <td>0.000000</td>\n",
       "      <td>0.000000</td>\n",
       "      <td>0.000000</td>\n",
       "      <td>1.0000</td>\n",
       "    </tr>\n",
       "    <tr>\n",
       "      <th>NOX</th>\n",
       "      <td>506.0</td>\n",
       "      <td>0.554695</td>\n",
       "      <td>0.115878</td>\n",
       "      <td>0.38500</td>\n",
       "      <td>0.449000</td>\n",
       "      <td>0.538000</td>\n",
       "      <td>0.624000</td>\n",
       "      <td>0.8710</td>\n",
       "    </tr>\n",
       "    <tr>\n",
       "      <th>RM</th>\n",
       "      <td>506.0</td>\n",
       "      <td>6.284634</td>\n",
       "      <td>0.702617</td>\n",
       "      <td>3.56100</td>\n",
       "      <td>5.885500</td>\n",
       "      <td>6.208500</td>\n",
       "      <td>6.623500</td>\n",
       "      <td>8.7800</td>\n",
       "    </tr>\n",
       "    <tr>\n",
       "      <th>AGE</th>\n",
       "      <td>486.0</td>\n",
       "      <td>68.518519</td>\n",
       "      <td>27.999513</td>\n",
       "      <td>2.90000</td>\n",
       "      <td>45.175000</td>\n",
       "      <td>76.800000</td>\n",
       "      <td>93.975000</td>\n",
       "      <td>100.0000</td>\n",
       "    </tr>\n",
       "    <tr>\n",
       "      <th>DIS</th>\n",
       "      <td>506.0</td>\n",
       "      <td>3.795043</td>\n",
       "      <td>2.105710</td>\n",
       "      <td>1.12960</td>\n",
       "      <td>2.100175</td>\n",
       "      <td>3.207450</td>\n",
       "      <td>5.188425</td>\n",
       "      <td>12.1265</td>\n",
       "    </tr>\n",
       "    <tr>\n",
       "      <th>RAD</th>\n",
       "      <td>506.0</td>\n",
       "      <td>9.549407</td>\n",
       "      <td>8.707259</td>\n",
       "      <td>1.00000</td>\n",
       "      <td>4.000000</td>\n",
       "      <td>5.000000</td>\n",
       "      <td>24.000000</td>\n",
       "      <td>24.0000</td>\n",
       "    </tr>\n",
       "    <tr>\n",
       "      <th>TAX</th>\n",
       "      <td>506.0</td>\n",
       "      <td>408.237154</td>\n",
       "      <td>168.537116</td>\n",
       "      <td>187.00000</td>\n",
       "      <td>279.000000</td>\n",
       "      <td>330.000000</td>\n",
       "      <td>666.000000</td>\n",
       "      <td>711.0000</td>\n",
       "    </tr>\n",
       "    <tr>\n",
       "      <th>PTRATIO</th>\n",
       "      <td>506.0</td>\n",
       "      <td>18.455534</td>\n",
       "      <td>2.164946</td>\n",
       "      <td>12.60000</td>\n",
       "      <td>17.400000</td>\n",
       "      <td>19.050000</td>\n",
       "      <td>20.200000</td>\n",
       "      <td>22.0000</td>\n",
       "    </tr>\n",
       "    <tr>\n",
       "      <th>B</th>\n",
       "      <td>506.0</td>\n",
       "      <td>356.674032</td>\n",
       "      <td>91.294864</td>\n",
       "      <td>0.32000</td>\n",
       "      <td>375.377500</td>\n",
       "      <td>391.440000</td>\n",
       "      <td>396.225000</td>\n",
       "      <td>396.9000</td>\n",
       "    </tr>\n",
       "    <tr>\n",
       "      <th>LSTAT</th>\n",
       "      <td>486.0</td>\n",
       "      <td>12.715432</td>\n",
       "      <td>7.155871</td>\n",
       "      <td>1.73000</td>\n",
       "      <td>7.125000</td>\n",
       "      <td>11.430000</td>\n",
       "      <td>16.955000</td>\n",
       "      <td>37.9700</td>\n",
       "    </tr>\n",
       "    <tr>\n",
       "      <th>MEDV</th>\n",
       "      <td>506.0</td>\n",
       "      <td>22.532806</td>\n",
       "      <td>9.197104</td>\n",
       "      <td>5.00000</td>\n",
       "      <td>17.025000</td>\n",
       "      <td>21.200000</td>\n",
       "      <td>25.000000</td>\n",
       "      <td>50.0000</td>\n",
       "    </tr>\n",
       "  </tbody>\n",
       "</table>\n",
       "</div>"
      ],
      "text/plain": [
       "         count        mean         std        min         25%         50%  \\\n",
       "CRIM     486.0    3.611874    8.720192    0.00632    0.081900    0.253715   \n",
       "ZN       486.0   11.211934   23.388876    0.00000    0.000000    0.000000   \n",
       "INDUS    486.0   11.083992    6.835896    0.46000    5.190000    9.690000   \n",
       "CHAS     486.0    0.069959    0.255340    0.00000    0.000000    0.000000   \n",
       "NOX      506.0    0.554695    0.115878    0.38500    0.449000    0.538000   \n",
       "RM       506.0    6.284634    0.702617    3.56100    5.885500    6.208500   \n",
       "AGE      486.0   68.518519   27.999513    2.90000   45.175000   76.800000   \n",
       "DIS      506.0    3.795043    2.105710    1.12960    2.100175    3.207450   \n",
       "RAD      506.0    9.549407    8.707259    1.00000    4.000000    5.000000   \n",
       "TAX      506.0  408.237154  168.537116  187.00000  279.000000  330.000000   \n",
       "PTRATIO  506.0   18.455534    2.164946   12.60000   17.400000   19.050000   \n",
       "B        506.0  356.674032   91.294864    0.32000  375.377500  391.440000   \n",
       "LSTAT    486.0   12.715432    7.155871    1.73000    7.125000   11.430000   \n",
       "MEDV     506.0   22.532806    9.197104    5.00000   17.025000   21.200000   \n",
       "\n",
       "                75%       max  \n",
       "CRIM       3.560262   88.9762  \n",
       "ZN        12.500000  100.0000  \n",
       "INDUS     18.100000   27.7400  \n",
       "CHAS       0.000000    1.0000  \n",
       "NOX        0.624000    0.8710  \n",
       "RM         6.623500    8.7800  \n",
       "AGE       93.975000  100.0000  \n",
       "DIS        5.188425   12.1265  \n",
       "RAD       24.000000   24.0000  \n",
       "TAX      666.000000  711.0000  \n",
       "PTRATIO   20.200000   22.0000  \n",
       "B        396.225000  396.9000  \n",
       "LSTAT     16.955000   37.9700  \n",
       "MEDV      25.000000   50.0000  "
      ]
     },
     "execution_count": 7,
     "metadata": {},
     "output_type": "execute_result"
    }
   ],
   "source": [
    "dataset.describe().T"
   ]
  },
  {
   "cell_type": "markdown",
   "metadata": {
    "id": "Qlbdi0gwOCkz"
   },
   "source": [
    "**4.Checking for Missing data**"
   ]
  },
  {
   "cell_type": "code",
   "execution_count": 8,
   "metadata": {
    "colab": {
     "base_uri": "https://localhost:8080/",
     "height": 0
    },
    "id": "My7Pg2hdOKMK",
    "outputId": "0a8b7ef8-b988-434c-ced5-04cf0f281003"
   },
   "outputs": [
    {
     "name": "stdout",
     "output_type": "stream",
     "text": [
      "Any missing data or NaN in the dataset: True\n"
     ]
    }
   ],
   "source": [
    "print(str('Any missing data or NaN in the dataset:'),dataset.isnull().values.any())"
   ]
  },
  {
   "cell_type": "code",
   "execution_count": 9,
   "metadata": {
    "colab": {
     "base_uri": "https://localhost:8080/",
     "height": 0
    },
    "id": "w5VjY625MFeC",
    "outputId": "47f0f138-5c89-43aa-cb40-b0471d6a8bcb"
   },
   "outputs": [
    {
     "name": "stdout",
     "output_type": "stream",
     "text": [
      "Any missing data or NaN in the dataset: False\n"
     ]
    }
   ],
   "source": [
    "dataset=dataset.fillna(dataset.mean())\n",
    "print(str('Any missing data or NaN in the dataset:'),dataset.isnull().values.any())"
   ]
  },
  {
   "cell_type": "code",
   "execution_count": 10,
   "metadata": {
    "colab": {
     "base_uri": "https://localhost:8080/",
     "height": 0
    },
    "id": "6VCmYh_xNgGU",
    "outputId": "7d5c7716-5922-4563-edee-2e8bfea6e5bd"
   },
   "outputs": [
    {
     "name": "stdout",
     "output_type": "stream",
     "text": [
      "<class 'pandas.core.frame.DataFrame'>\n",
      "RangeIndex: 506 entries, 0 to 505\n",
      "Data columns (total 14 columns):\n",
      " #   Column   Non-Null Count  Dtype  \n",
      "---  ------   --------------  -----  \n",
      " 0   CRIM     506 non-null    float64\n",
      " 1   ZN       506 non-null    float64\n",
      " 2   INDUS    506 non-null    float64\n",
      " 3   CHAS     506 non-null    float64\n",
      " 4   NOX      506 non-null    float64\n",
      " 5   RM       506 non-null    float64\n",
      " 6   AGE      506 non-null    float64\n",
      " 7   DIS      506 non-null    float64\n",
      " 8   RAD      506 non-null    int64  \n",
      " 9   TAX      506 non-null    int64  \n",
      " 10  PTRATIO  506 non-null    float64\n",
      " 11  B        506 non-null    float64\n",
      " 12  LSTAT    506 non-null    float64\n",
      " 13  MEDV     506 non-null    float64\n",
      "dtypes: float64(12), int64(2)\n",
      "memory usage: 55.5 KB\n"
     ]
    }
   ],
   "source": [
    "dataset.info()"
   ]
  },
  {
   "cell_type": "markdown",
   "metadata": {
    "id": "xM4r1TRdOiwm"
   },
   "source": [
    "**5.Correlation between Variables**"
   ]
  },
  {
   "cell_type": "code",
   "execution_count": 11,
   "metadata": {
    "colab": {
     "base_uri": "https://localhost:8080/",
     "height": 801
    },
    "id": "XsWj6vymOoDa",
    "outputId": "a133ba5e-66de-4803-e466-5514985fac0b"
   },
   "outputs": [
    {
     "name": "stdout",
     "output_type": "stream",
     "text": [
      "             CRIM        ZN     INDUS      CHAS       NOX        RM       AGE  \\\n",
      "CRIM     1.000000 -0.182930  0.391161 -0.052223  0.410377 -0.215434  0.344934   \n",
      "ZN      -0.182930  1.000000 -0.513336 -0.036147 -0.502287  0.316550 -0.541274   \n",
      "INDUS    0.391161 -0.513336  1.000000  0.058035  0.740965 -0.381457  0.614592   \n",
      "CHAS    -0.052223 -0.036147  0.058035  1.000000  0.073286  0.102284  0.075206   \n",
      "NOX      0.410377 -0.502287  0.740965  0.073286  1.000000 -0.302188  0.711461   \n",
      "RM      -0.215434  0.316550 -0.381457  0.102284 -0.302188  1.000000 -0.241351   \n",
      "AGE      0.344934 -0.541274  0.614592  0.075206  0.711461 -0.241351  1.000000   \n",
      "DIS     -0.366523  0.638388 -0.699639 -0.091680 -0.769230  0.205246 -0.724353   \n",
      "RAD      0.608886 -0.306316  0.593176  0.001425  0.611441 -0.209847  0.449989   \n",
      "TAX      0.566528 -0.308334  0.716062 -0.031483  0.668023 -0.292048  0.500589   \n",
      "PTRATIO  0.273384 -0.403085  0.384806 -0.109310  0.188933 -0.355501  0.262723   \n",
      "B       -0.370163  0.167431 -0.354597  0.050055 -0.380051  0.128069 -0.265282   \n",
      "LSTAT    0.434044 -0.407549  0.567354 -0.046166  0.572379 -0.602962  0.574893   \n",
      "MEDV    -0.379695  0.365943 -0.478657  0.179882 -0.427321  0.695360 -0.380223   \n",
      "\n",
      "              DIS       RAD       TAX   PTRATIO         B     LSTAT      MEDV  \n",
      "CRIM    -0.366523  0.608886  0.566528  0.273384 -0.370163  0.434044 -0.379695  \n",
      "ZN       0.638388 -0.306316 -0.308334 -0.403085  0.167431 -0.407549  0.365943  \n",
      "INDUS   -0.699639  0.593176  0.716062  0.384806 -0.354597  0.567354 -0.478657  \n",
      "CHAS    -0.091680  0.001425 -0.031483 -0.109310  0.050055 -0.046166  0.179882  \n",
      "NOX     -0.769230  0.611441  0.668023  0.188933 -0.380051  0.572379 -0.427321  \n",
      "RM       0.205246 -0.209847 -0.292048 -0.355501  0.128069 -0.602962  0.695360  \n",
      "AGE     -0.724353  0.449989  0.500589  0.262723 -0.265282  0.574893 -0.380223  \n",
      "DIS      1.000000 -0.494588 -0.534432 -0.232471  0.291512 -0.483429  0.249929  \n",
      "RAD     -0.494588  1.000000  0.910228  0.464741 -0.444413  0.468440 -0.381626  \n",
      "TAX     -0.534432  0.910228  1.000000  0.460853 -0.441808  0.524545 -0.468536  \n",
      "PTRATIO -0.232471  0.464741  0.460853  1.000000 -0.177383  0.373343 -0.507787  \n",
      "B        0.291512 -0.444413 -0.441808 -0.177383  1.000000 -0.368886  0.333461  \n",
      "LSTAT   -0.483429  0.468440  0.524545  0.373343 -0.368886  1.000000 -0.721975  \n",
      "MEDV     0.249929 -0.381626 -0.468536 -0.507787  0.333461 -0.721975  1.000000  \n"
     ]
    },
    {
     "data": {
      "text/plain": [
       "<matplotlib.axes._subplots.AxesSubplot at 0x208a561aeb0>"
      ]
     },
     "execution_count": 11,
     "metadata": {},
     "output_type": "execute_result"
    },
    {
     "data": {
      "image/png": "[encoded data removed]",
      "text/plain": [
       "<Figure size 720x540 with 2 Axes>"
      ]
     },
     "metadata": {},
     "output_type": "display_data"
    }
   ],
   "source": [
    "corr_var=dataset.corr()\n",
    "print(corr_var)\n",
    "plt.figure(figsize=(10,7.5))\n",
    "sns.heatmap(corr_var, annot=True, cmap='BuPu')"
   ]
  },
  {
   "cell_type": "markdown",
   "metadata": {
    "id": "HJZiT_edCkZw"
   },
   "source": [
    "The correlation coefficient ranges from -1 to 1. If the value is close to 1, it means that there is a strong positive correlation between the two variables. When it is close to -1, the variables have a strong negative correlation."
   ]
  },
  {
   "cell_type": "markdown",
   "metadata": {
    "id": "ENW57vF2DRNO"
   },
   "source": [
    "By looking at the correlation matrix we can see that **RM** has a strong positive correlation with **MEDV (0.7)**, **PTRATIO** which has negative correlation with **MEDV(-0.51)** and **LSTAT** has a high negative correlation with **MEDV (-0.72)**."
   ]
  },
  {
   "cell_type": "markdown",
   "metadata": {
    "id": "ccvqNd6dPGlN"
   },
   "source": [
    "**6.Dependent and Independent Variable**"
   ]
  },
  {
   "cell_type": "code",
   "execution_count": 14,
   "metadata": {
    "id": "P3vYncjwPMZI"
   },
   "outputs": [],
   "source": [
    "X = dataset.iloc[:,:-1].values\n",
    "#X = dataset[['RM','LSTAT','PTRATIO']]\n",
    "y = dataset.iloc[:,-1].values\n",
    "#print(X)\n",
    "#print(y)"
   ]
  },
  {
   "cell_type": "markdown",
   "metadata": {
    "id": "xGhqcvhlPm2M"
   },
   "source": [
    "**7.Splitting the dataset**"
   ]
  },
  {
   "cell_type": "code",
   "execution_count": 15,
   "metadata": {
    "colab": {
     "base_uri": "https://localhost:8080/",
     "height": 0
    },
    "id": "RAgRdO7mPrGI",
    "outputId": "982fc43d-272c-4d9f-ea93-e724a1b4fbab"
   },
   "outputs": [
    {
     "name": "stdout",
     "output_type": "stream",
     "text": [
      "Total no. of samples: Training and Testing dataset separately!\n",
      "X_train: (337, 13)\n",
      "y_train: (337,)\n",
      "X_test: (169, 13)\n",
      "y_test: (169,)\n"
     ]
    }
   ],
   "source": [
    "from sklearn.model_selection import train_test_split\n",
    "X_train, X_test, y_train, y_test = train_test_split(X, y, test_size = 1/3, random_state = 1)\n",
    "print('Total no. of samples: Training and Testing dataset separately!')\n",
    "print('X_train:', np.shape(X_train))\n",
    "print('y_train:', np.shape(y_train))\n",
    "print('X_test:', np.shape(X_test))\n",
    "print('y_test:', np.shape(y_test))"
   ]
  },
  {
   "cell_type": "code",
   "execution_count": 16,
   "metadata": {
    "id": "si73R75aMOWK"
   },
   "outputs": [],
   "source": [
    "from sklearn.preprocessing import StandardScaler\n",
    "sc = StandardScaler()\n",
    "X_train = sc.fit_transform(X_train)\n",
    "X_test = sc.transform(X_test)"
   ]
  },
  {
   "cell_type": "code",
   "execution_count": 17,
   "metadata": {
    "id": "3VdHk9rkMZQ2"
   },
   "outputs": [],
   "source": [
    "from sklearn.decomposition import PCA\n",
    "pca = PCA()\n",
    "X_train = pca.fit_transform(X_train)\n",
    "X_test = pca.transform(X_test)"
   ]
  },
  {
   "cell_type": "code",
   "execution_count": 18,
   "metadata": {
    "colab": {
     "base_uri": "https://localhost:8080/",
     "height": 0
    },
    "id": "qAlkUNm-MfAz",
    "outputId": "d1964592-d809-4727-ad00-1f879e94035b"
   },
   "outputs": [
    {
     "name": "stdout",
     "output_type": "stream",
     "text": [
      "Explained variation: [0.47217721 0.10694978 0.09603822 0.06927484 0.06515412 0.04860002\n",
      " 0.03947911 0.03189555 0.02110436 0.01778503 0.01416238 0.0128819\n",
      " 0.00449749]\n"
     ]
    }
   ],
   "source": [
    "print('Explained variation: {}'.format(pca.explained_variance_ratio_))"
   ]
  },
  {
   "cell_type": "markdown",
   "metadata": {},
   "source": [
    "# Modelling"
   ]
  },
  {
   "cell_type": "code",
   "execution_count": 19,
   "metadata": {},
   "outputs": [
    {
     "name": "stderr",
     "output_type": "stream",
     "text": [
      "C:\\Users\\S.A.N\\anaconda3\\lib\\site-packages\\sklearn\\utils\\deprecation.py:143: FutureWarning: The sklearn.utils.testing module is  deprecated in version 0.22 and will be removed in version 0.24. The corresponding classes / functions should instead be imported from sklearn.utils. Anything that cannot be imported from sklearn.utils is now part of the private API.\n",
      "  warnings.warn(message, FutureWarning)\n",
      "100%|██████████████████████████████████████████████████████████████████████████████████| 42/42 [00:04<00:00,  9.73it/s]"
     ]
    },
    {
     "name": "stdout",
     "output_type": "stream",
     "text": [
      "                               Adjusted R-Squared  R-Squared  RMSE  Time Taken\n",
      "Model                                                                         \n",
      "ExtraTreesRegressor                          0.87       0.88  3.19        0.23\n",
      "HistGradientBoostingRegressor                0.86       0.87  3.38        0.41\n",
      "GradientBoostingRegressor                    0.86       0.87  3.39        0.16\n",
      "LGBMRegressor                                0.84       0.85  3.59        0.06\n",
      "RandomForestRegressor                        0.83       0.84  3.76        0.35\n",
      "BaggingRegressor                             0.81       0.82  3.96        0.05\n",
      "XGBRegressor                                 0.80       0.82  4.00        1.52\n",
      "PoissonRegressor                             0.79       0.81  4.13        0.01\n",
      "AdaBoostRegressor                            0.78       0.80  4.20        0.12\n",
      "KNeighborsRegressor                          0.77       0.79  4.31        0.03\n",
      "SGDRegressor                                 0.73       0.75  4.67        0.01\n",
      "Lars                                         0.73       0.75  4.68        0.02\n",
      "TransformedTargetRegressor                   0.73       0.75  4.68        0.01\n",
      "LinearRegression                             0.73       0.75  4.68        0.01\n",
      "Ridge                                        0.73       0.75  4.68        0.01\n",
      "BayesianRidge                                0.73       0.75  4.69        0.01\n",
      "ElasticNetCV                                 0.73       0.75  4.72        0.07\n",
      "RidgeCV                                      0.72       0.75  4.73        0.01\n",
      "HuberRegressor                               0.72       0.74  4.76        0.03\n",
      "LassoCV                                      0.72       0.74  4.77        0.06\n",
      "LarsCV                                       0.72       0.74  4.78        0.03\n",
      "LassoLarsCV                                  0.72       0.74  4.78        0.03\n",
      "MLPRegressor                                 0.71       0.74  4.82        0.77\n",
      "LassoLarsIC                                  0.71       0.73  4.84        0.02\n",
      "OrthogonalMatchingPursuitCV                  0.71       0.73  4.86        0.01\n",
      "LinearSVR                                    0.70       0.73  4.91        0.01\n",
      "ExtraTreeRegressor                           0.66       0.69  5.22        0.01\n",
      "Lasso                                        0.64       0.67  5.42        0.01\n",
      "ElasticNet                                   0.55       0.59  6.01        0.01\n",
      "PassiveAggressiveRegressor                   0.54       0.57  6.14        0.01\n",
      "DecisionTreeRegressor                        0.52       0.55  6.25        0.01\n",
      "TweedieRegressor                             0.50       0.54  6.35        0.01\n",
      "GeneralizedLinearRegressor                   0.50       0.54  6.35        0.01\n",
      "GammaRegressor                               0.50       0.54  6.38        0.01\n",
      "RANSACRegressor                              0.49       0.53  6.41        0.06\n",
      "SVR                                          0.49       0.53  6.42        0.01\n",
      "NuSVR                                        0.48       0.52  6.52        0.02\n",
      "OrthogonalMatchingPursuit                    0.31       0.37  7.46        0.01\n",
      "DummyRegressor                              -0.09      -0.00  9.39        0.01\n",
      "LassoLars                                   -0.09      -0.00  9.39        0.01\n",
      "GaussianProcessRegressor                    -1.30      -1.12 13.66        0.03\n",
      "KernelRidge                                 -5.26      -4.77 22.52        0.02\n"
     ]
    },
    {
     "name": "stderr",
     "output_type": "stream",
     "text": [
      "\n"
     ]
    }
   ],
   "source": [
    "#by importing pyforest we can generate almost 40 regression model\n",
    "import pyforest\n",
    "from lazypredict.Supervised import LazyRegressor\n",
    "regressions = LazyRegressor(ignore_warnings=False, custom_metric=None)\n",
    "models, predictions = regressions.fit(X_train, X_test, y_train, y_test)\n",
    "print(models)"
   ]
  },
  {
   "cell_type": "markdown",
   "metadata": {
    "id": "k5CoebIiSp8Z"
   },
   "source": [
    "Hope! The basic steps for the regression types for the Boston Housing dataset got understood! Happy Learning\n",
    "\n",
    "\n",
    "\n",
    "**PREMANAND S**"
   ]
  }
 ],
 "metadata": {
  "colab": {
   "collapsed_sections": [],
   "name": "21_Boston_housing_dataset.ipynb",
   "provenance": []
  },
  "kernelspec": {
   "display_name": "Python 3",
   "language": "python",
   "name": "python3"
  },
  "language_info": {
   "codemirror_mode": {
    "name": "ipython",
    "version": 3
   },
   "file_extension": ".py",
   "mimetype": "text/x-python",
   "name": "python",
   "nbconvert_exporter": "python",
   "pygments_lexer": "ipython3",
   "version": "3.8.3"
  }
 },
 "nbformat": 4,
 "nbformat_minor": 1
}
